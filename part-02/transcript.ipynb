{
  "nbformat": 4,
  "nbformat_minor": 0,
  "metadata": {
    "colab": {
      "name": "[DS WEBINAR] How to Manage and Manipulate your data.ipynb",
      "provenance": []
    },
    "kernelspec": {
      "name": "python3",
      "display_name": "Python 3"
    }
  },
  "cells": [
    {
      "cell_type": "code",
      "metadata": {
        "colab": {
          "base_uri": "https://localhost:8080/"
        },
        "id": "EgxTz-JoGfnB",
        "outputId": "453fde37-c564-4c89-ca28-40ba1d07cd49"
      },
      "source": [
        "from google.colab import drive\n",
        "drive.mount('/content/drive')"
      ],
      "execution_count": 1,
      "outputs": [
        {
          "output_type": "stream",
          "text": [
            "Drive already mounted at /content/drive; to attempt to forcibly remount, call drive.mount(\"/content/drive\", force_remount=True).\n"
          ],
          "name": "stdout"
        }
      ]
    },
    {
      "cell_type": "code",
      "metadata": {
        "id": "HpCnRL0TUeE1"
      },
      "source": [
        "import pandas as pd"
      ],
      "execution_count": 2,
      "outputs": []
    },
    {
      "cell_type": "code",
      "metadata": {
        "id": "0wP7ckH0Urlj"
      },
      "source": [
        "amazon_df = pd.read_csv('/content/drive/MyDrive/ca.webinars/Pandas Series/data/amzn.csv', index_col=0)\n",
        "tesla_df = pd.read_csv('/content/drive/MyDrive/ca.webinars/Pandas Series/data/tsla.csv', index_col=0)"
      ],
      "execution_count": 5,
      "outputs": []
    },
    {
      "cell_type": "code",
      "metadata": {
        "colab": {
          "base_uri": "https://localhost:8080/",
          "height": 204
        },
        "id": "ecHt7OGIU-_t",
        "outputId": "13f2f3e6-c3b8-4f8b-b426-4b819caf36fc"
      },
      "source": [
        "amazon_df.head()"
      ],
      "execution_count": 6,
      "outputs": [
        {
          "output_type": "execute_result",
          "data": {
            "text/html": [
              "<div>\n",
              "<style scoped>\n",
              "    .dataframe tbody tr th:only-of-type {\n",
              "        vertical-align: middle;\n",
              "    }\n",
              "\n",
              "    .dataframe tbody tr th {\n",
              "        vertical-align: top;\n",
              "    }\n",
              "\n",
              "    .dataframe thead th {\n",
              "        text-align: right;\n",
              "    }\n",
              "</style>\n",
              "<table border=\"1\" class=\"dataframe\">\n",
              "  <thead>\n",
              "    <tr style=\"text-align: right;\">\n",
              "      <th></th>\n",
              "      <th>Date</th>\n",
              "      <th>Close</th>\n",
              "      <th>Volume</th>\n",
              "      <th>Symbol</th>\n",
              "    </tr>\n",
              "  </thead>\n",
              "  <tbody>\n",
              "    <tr>\n",
              "      <th>0</th>\n",
              "      <td>2020-07-01</td>\n",
              "      <td>2878.699951</td>\n",
              "      <td>6363400</td>\n",
              "      <td>AMZN</td>\n",
              "    </tr>\n",
              "    <tr>\n",
              "      <th>1</th>\n",
              "      <td>2020-07-02</td>\n",
              "      <td>2890.300049</td>\n",
              "      <td>6593400</td>\n",
              "      <td>AMZN</td>\n",
              "    </tr>\n",
              "    <tr>\n",
              "      <th>2</th>\n",
              "      <td>2020-07-06</td>\n",
              "      <td>3057.040039</td>\n",
              "      <td>6880600</td>\n",
              "      <td>AMZN</td>\n",
              "    </tr>\n",
              "    <tr>\n",
              "      <th>3</th>\n",
              "      <td>2020-07-07</td>\n",
              "      <td>3000.120117</td>\n",
              "      <td>5257500</td>\n",
              "      <td>AMZN</td>\n",
              "    </tr>\n",
              "    <tr>\n",
              "      <th>4</th>\n",
              "      <td>2020-07-08</td>\n",
              "      <td>3081.110107</td>\n",
              "      <td>5037600</td>\n",
              "      <td>AMZN</td>\n",
              "    </tr>\n",
              "  </tbody>\n",
              "</table>\n",
              "</div>"
            ],
            "text/plain": [
              "         Date        Close   Volume Symbol\n",
              "0  2020-07-01  2878.699951  6363400   AMZN\n",
              "1  2020-07-02  2890.300049  6593400   AMZN\n",
              "2  2020-07-06  3057.040039  6880600   AMZN\n",
              "3  2020-07-07  3000.120117  5257500   AMZN\n",
              "4  2020-07-08  3081.110107  5037600   AMZN"
            ]
          },
          "metadata": {
            "tags": []
          },
          "execution_count": 6
        }
      ]
    },
    {
      "cell_type": "code",
      "metadata": {
        "colab": {
          "base_uri": "https://localhost:8080/",
          "height": 204
        },
        "id": "JvjaH35eVBs_",
        "outputId": "701871de-aba5-43e2-f39d-a570f7138a99"
      },
      "source": [
        "tesla_df.head()"
      ],
      "execution_count": 7,
      "outputs": [
        {
          "output_type": "execute_result",
          "data": {
            "text/html": [
              "<div>\n",
              "<style scoped>\n",
              "    .dataframe tbody tr th:only-of-type {\n",
              "        vertical-align: middle;\n",
              "    }\n",
              "\n",
              "    .dataframe tbody tr th {\n",
              "        vertical-align: top;\n",
              "    }\n",
              "\n",
              "    .dataframe thead th {\n",
              "        text-align: right;\n",
              "    }\n",
              "</style>\n",
              "<table border=\"1\" class=\"dataframe\">\n",
              "  <thead>\n",
              "    <tr style=\"text-align: right;\">\n",
              "      <th></th>\n",
              "      <th>Date</th>\n",
              "      <th>Close</th>\n",
              "      <th>Volume</th>\n",
              "      <th>Symbol</th>\n",
              "    </tr>\n",
              "  </thead>\n",
              "  <tbody>\n",
              "    <tr>\n",
              "      <th>0</th>\n",
              "      <td>2020-07-01</td>\n",
              "      <td>223.925995</td>\n",
              "      <td>66634500.0</td>\n",
              "      <td>TSLA</td>\n",
              "    </tr>\n",
              "    <tr>\n",
              "      <th>1</th>\n",
              "      <td>2020-07-02</td>\n",
              "      <td>241.731995</td>\n",
              "      <td>86250500.0</td>\n",
              "      <td>TSLA</td>\n",
              "    </tr>\n",
              "    <tr>\n",
              "      <th>2</th>\n",
              "      <td>2020-07-06</td>\n",
              "      <td>274.316010</td>\n",
              "      <td>102849500.0</td>\n",
              "      <td>TSLA</td>\n",
              "    </tr>\n",
              "    <tr>\n",
              "      <th>3</th>\n",
              "      <td>2020-07-07</td>\n",
              "      <td>277.971985</td>\n",
              "      <td>107448500.0</td>\n",
              "      <td>TSLA</td>\n",
              "    </tr>\n",
              "    <tr>\n",
              "      <th>4</th>\n",
              "      <td>2020-07-08</td>\n",
              "      <td>273.175995</td>\n",
              "      <td>81556500.0</td>\n",
              "      <td>TSLA</td>\n",
              "    </tr>\n",
              "  </tbody>\n",
              "</table>\n",
              "</div>"
            ],
            "text/plain": [
              "         Date       Close       Volume Symbol\n",
              "0  2020-07-01  223.925995   66634500.0   TSLA\n",
              "1  2020-07-02  241.731995   86250500.0   TSLA\n",
              "2  2020-07-06  274.316010  102849500.0   TSLA\n",
              "3  2020-07-07  277.971985  107448500.0   TSLA\n",
              "4  2020-07-08  273.175995   81556500.0   TSLA"
            ]
          },
          "metadata": {
            "tags": []
          },
          "execution_count": 7
        }
      ]
    },
    {
      "cell_type": "code",
      "metadata": {
        "colab": {
          "base_uri": "https://localhost:8080/"
        },
        "id": "KmNsCQkZVqIZ",
        "outputId": "521f629a-a4a9-460f-91fc-82510c00e9d0"
      },
      "source": [
        "amazon_df.shape == tesla_df.shape"
      ],
      "execution_count": 8,
      "outputs": [
        {
          "output_type": "execute_result",
          "data": {
            "text/plain": [
              "True"
            ]
          },
          "metadata": {
            "tags": []
          },
          "execution_count": 8
        }
      ]
    },
    {
      "cell_type": "code",
      "metadata": {
        "colab": {
          "base_uri": "https://localhost:8080/"
        },
        "id": "Vbwy6uI9V_gX",
        "outputId": "2be1e878-4fe6-406b-8297-6adebc9282fa"
      },
      "source": [
        "amazon_df.shape"
      ],
      "execution_count": 9,
      "outputs": [
        {
          "output_type": "execute_result",
          "data": {
            "text/plain": [
              "(147, 4)"
            ]
          },
          "metadata": {
            "tags": []
          },
          "execution_count": 9
        }
      ]
    },
    {
      "cell_type": "code",
      "metadata": {
        "id": "KJJbPVOHWBYo"
      },
      "source": [
        "# 1. Concatenate two (or more) dataframes"
      ],
      "execution_count": 10,
      "outputs": []
    },
    {
      "cell_type": "code",
      "metadata": {
        "id": "06Ac7fOHWPZ1"
      },
      "source": [
        "concat_df = pd.concat([amazon_df, tesla_df], axis=0)"
      ],
      "execution_count": 11,
      "outputs": []
    },
    {
      "cell_type": "code",
      "metadata": {
        "colab": {
          "base_uri": "https://localhost:8080/"
        },
        "id": "RcdfKpNmWnT0",
        "outputId": "c9026db2-89b3-4380-d3a7-f065c6b8db54"
      },
      "source": [
        "concat_df.shape"
      ],
      "execution_count": 12,
      "outputs": [
        {
          "output_type": "execute_result",
          "data": {
            "text/plain": [
              "(294, 4)"
            ]
          },
          "metadata": {
            "tags": []
          },
          "execution_count": 12
        }
      ]
    },
    {
      "cell_type": "code",
      "metadata": {
        "colab": {
          "base_uri": "https://localhost:8080/",
          "height": 204
        },
        "id": "4gHRuyg6Wp2c",
        "outputId": "7b850c24-6f6e-44f3-e3b2-92dd2c3aff18"
      },
      "source": [
        "concat_df.tail()"
      ],
      "execution_count": 13,
      "outputs": [
        {
          "output_type": "execute_result",
          "data": {
            "text/html": [
              "<div>\n",
              "<style scoped>\n",
              "    .dataframe tbody tr th:only-of-type {\n",
              "        vertical-align: middle;\n",
              "    }\n",
              "\n",
              "    .dataframe tbody tr th {\n",
              "        vertical-align: top;\n",
              "    }\n",
              "\n",
              "    .dataframe thead th {\n",
              "        text-align: right;\n",
              "    }\n",
              "</style>\n",
              "<table border=\"1\" class=\"dataframe\">\n",
              "  <thead>\n",
              "    <tr style=\"text-align: right;\">\n",
              "      <th></th>\n",
              "      <th>Date</th>\n",
              "      <th>Close</th>\n",
              "      <th>Volume</th>\n",
              "      <th>Symbol</th>\n",
              "    </tr>\n",
              "  </thead>\n",
              "  <tbody>\n",
              "    <tr>\n",
              "      <th>142</th>\n",
              "      <td>2021-01-25</td>\n",
              "      <td>880.799988</td>\n",
              "      <td>41173400.0</td>\n",
              "      <td>TSLA</td>\n",
              "    </tr>\n",
              "    <tr>\n",
              "      <th>143</th>\n",
              "      <td>2021-01-26</td>\n",
              "      <td>883.090027</td>\n",
              "      <td>23131600.0</td>\n",
              "      <td>TSLA</td>\n",
              "    </tr>\n",
              "    <tr>\n",
              "      <th>144</th>\n",
              "      <td>2021-01-27</td>\n",
              "      <td>864.159973</td>\n",
              "      <td>27334000.0</td>\n",
              "      <td>TSLA</td>\n",
              "    </tr>\n",
              "    <tr>\n",
              "      <th>145</th>\n",
              "      <td>2021-01-28</td>\n",
              "      <td>835.429993</td>\n",
              "      <td>26378000.0</td>\n",
              "      <td>TSLA</td>\n",
              "    </tr>\n",
              "    <tr>\n",
              "      <th>146</th>\n",
              "      <td>2021-01-29</td>\n",
              "      <td>793.530029</td>\n",
              "      <td>34990800.0</td>\n",
              "      <td>TSLA</td>\n",
              "    </tr>\n",
              "  </tbody>\n",
              "</table>\n",
              "</div>"
            ],
            "text/plain": [
              "           Date       Close      Volume Symbol\n",
              "142  2021-01-25  880.799988  41173400.0   TSLA\n",
              "143  2021-01-26  883.090027  23131600.0   TSLA\n",
              "144  2021-01-27  864.159973  27334000.0   TSLA\n",
              "145  2021-01-28  835.429993  26378000.0   TSLA\n",
              "146  2021-01-29  793.530029  34990800.0   TSLA"
            ]
          },
          "metadata": {
            "tags": []
          },
          "execution_count": 13
        }
      ]
    },
    {
      "cell_type": "code",
      "metadata": {
        "id": "hQcILM6iWwn6"
      },
      "source": [
        "concat_df.reset_index(drop=True, inplace=True)"
      ],
      "execution_count": 14,
      "outputs": []
    },
    {
      "cell_type": "code",
      "metadata": {
        "id": "l1Ldt5uVXLb6"
      },
      "source": [
        "final_df = concat_df.sort_values(by=['Date', 'Symbol']).reset_index(drop=True)"
      ],
      "execution_count": 20,
      "outputs": []
    },
    {
      "cell_type": "code",
      "metadata": {
        "colab": {
          "base_uri": "https://localhost:8080/",
          "height": 204
        },
        "id": "bMdAZvcUXNCS",
        "outputId": "2d101e3e-40e9-4647-e478-fb4d87d31dd6"
      },
      "source": [
        "final_df.head()"
      ],
      "execution_count": 21,
      "outputs": [
        {
          "output_type": "execute_result",
          "data": {
            "text/html": [
              "<div>\n",
              "<style scoped>\n",
              "    .dataframe tbody tr th:only-of-type {\n",
              "        vertical-align: middle;\n",
              "    }\n",
              "\n",
              "    .dataframe tbody tr th {\n",
              "        vertical-align: top;\n",
              "    }\n",
              "\n",
              "    .dataframe thead th {\n",
              "        text-align: right;\n",
              "    }\n",
              "</style>\n",
              "<table border=\"1\" class=\"dataframe\">\n",
              "  <thead>\n",
              "    <tr style=\"text-align: right;\">\n",
              "      <th></th>\n",
              "      <th>Date</th>\n",
              "      <th>Close</th>\n",
              "      <th>Volume</th>\n",
              "      <th>Symbol</th>\n",
              "    </tr>\n",
              "  </thead>\n",
              "  <tbody>\n",
              "    <tr>\n",
              "      <th>0</th>\n",
              "      <td>2020-07-01</td>\n",
              "      <td>2878.699951</td>\n",
              "      <td>6363400.0</td>\n",
              "      <td>AMZN</td>\n",
              "    </tr>\n",
              "    <tr>\n",
              "      <th>1</th>\n",
              "      <td>2020-07-01</td>\n",
              "      <td>223.925995</td>\n",
              "      <td>66634500.0</td>\n",
              "      <td>TSLA</td>\n",
              "    </tr>\n",
              "    <tr>\n",
              "      <th>2</th>\n",
              "      <td>2020-07-02</td>\n",
              "      <td>2890.300049</td>\n",
              "      <td>6593400.0</td>\n",
              "      <td>AMZN</td>\n",
              "    </tr>\n",
              "    <tr>\n",
              "      <th>3</th>\n",
              "      <td>2020-07-02</td>\n",
              "      <td>241.731995</td>\n",
              "      <td>86250500.0</td>\n",
              "      <td>TSLA</td>\n",
              "    </tr>\n",
              "    <tr>\n",
              "      <th>4</th>\n",
              "      <td>2020-07-06</td>\n",
              "      <td>3057.040039</td>\n",
              "      <td>6880600.0</td>\n",
              "      <td>AMZN</td>\n",
              "    </tr>\n",
              "  </tbody>\n",
              "</table>\n",
              "</div>"
            ],
            "text/plain": [
              "         Date        Close      Volume Symbol\n",
              "0  2020-07-01  2878.699951   6363400.0   AMZN\n",
              "1  2020-07-01   223.925995  66634500.0   TSLA\n",
              "2  2020-07-02  2890.300049   6593400.0   AMZN\n",
              "3  2020-07-02   241.731995  86250500.0   TSLA\n",
              "4  2020-07-06  3057.040039   6880600.0   AMZN"
            ]
          },
          "metadata": {
            "tags": []
          },
          "execution_count": 21
        }
      ]
    },
    {
      "cell_type": "code",
      "metadata": {
        "id": "R80fHRlwYIyb"
      },
      "source": [
        "new_df = amazon_df.append(tesla_df)\n",
        "final_df01 = new_df.sort_values(by=['Date', 'Symbol']).reset_index(drop=True)"
      ],
      "execution_count": 23,
      "outputs": []
    },
    {
      "cell_type": "code",
      "metadata": {
        "colab": {
          "base_uri": "https://localhost:8080/",
          "height": 204
        },
        "id": "LquMWvNMYX9l",
        "outputId": "85098c5a-b4ec-4d75-9286-1d9771fa1092"
      },
      "source": [
        "final_df01.head()"
      ],
      "execution_count": 24,
      "outputs": [
        {
          "output_type": "execute_result",
          "data": {
            "text/html": [
              "<div>\n",
              "<style scoped>\n",
              "    .dataframe tbody tr th:only-of-type {\n",
              "        vertical-align: middle;\n",
              "    }\n",
              "\n",
              "    .dataframe tbody tr th {\n",
              "        vertical-align: top;\n",
              "    }\n",
              "\n",
              "    .dataframe thead th {\n",
              "        text-align: right;\n",
              "    }\n",
              "</style>\n",
              "<table border=\"1\" class=\"dataframe\">\n",
              "  <thead>\n",
              "    <tr style=\"text-align: right;\">\n",
              "      <th></th>\n",
              "      <th>Date</th>\n",
              "      <th>Close</th>\n",
              "      <th>Volume</th>\n",
              "      <th>Symbol</th>\n",
              "    </tr>\n",
              "  </thead>\n",
              "  <tbody>\n",
              "    <tr>\n",
              "      <th>0</th>\n",
              "      <td>2020-07-01</td>\n",
              "      <td>2878.699951</td>\n",
              "      <td>6363400.0</td>\n",
              "      <td>AMZN</td>\n",
              "    </tr>\n",
              "    <tr>\n",
              "      <th>1</th>\n",
              "      <td>2020-07-01</td>\n",
              "      <td>223.925995</td>\n",
              "      <td>66634500.0</td>\n",
              "      <td>TSLA</td>\n",
              "    </tr>\n",
              "    <tr>\n",
              "      <th>2</th>\n",
              "      <td>2020-07-02</td>\n",
              "      <td>2890.300049</td>\n",
              "      <td>6593400.0</td>\n",
              "      <td>AMZN</td>\n",
              "    </tr>\n",
              "    <tr>\n",
              "      <th>3</th>\n",
              "      <td>2020-07-02</td>\n",
              "      <td>241.731995</td>\n",
              "      <td>86250500.0</td>\n",
              "      <td>TSLA</td>\n",
              "    </tr>\n",
              "    <tr>\n",
              "      <th>4</th>\n",
              "      <td>2020-07-06</td>\n",
              "      <td>3057.040039</td>\n",
              "      <td>6880600.0</td>\n",
              "      <td>AMZN</td>\n",
              "    </tr>\n",
              "  </tbody>\n",
              "</table>\n",
              "</div>"
            ],
            "text/plain": [
              "         Date        Close      Volume Symbol\n",
              "0  2020-07-01  2878.699951   6363400.0   AMZN\n",
              "1  2020-07-01   223.925995  66634500.0   TSLA\n",
              "2  2020-07-02  2890.300049   6593400.0   AMZN\n",
              "3  2020-07-02   241.731995  86250500.0   TSLA\n",
              "4  2020-07-06  3057.040039   6880600.0   AMZN"
            ]
          },
          "metadata": {
            "tags": []
          },
          "execution_count": 24
        }
      ]
    },
    {
      "cell_type": "code",
      "metadata": {
        "id": "0jvniUh_YkAU"
      },
      "source": [
        "# 2. Merging two dataframes"
      ],
      "execution_count": 25,
      "outputs": []
    },
    {
      "cell_type": "code",
      "metadata": {
        "colab": {
          "base_uri": "https://localhost:8080/",
          "height": 204
        },
        "id": "3nKKLsW8Y1Nb",
        "outputId": "cd54f370-7605-4392-dec4-1398d29c3e83"
      },
      "source": [
        "pd.concat([amazon_df, tesla_df], axis=1).head()"
      ],
      "execution_count": 26,
      "outputs": [
        {
          "output_type": "execute_result",
          "data": {
            "text/html": [
              "<div>\n",
              "<style scoped>\n",
              "    .dataframe tbody tr th:only-of-type {\n",
              "        vertical-align: middle;\n",
              "    }\n",
              "\n",
              "    .dataframe tbody tr th {\n",
              "        vertical-align: top;\n",
              "    }\n",
              "\n",
              "    .dataframe thead th {\n",
              "        text-align: right;\n",
              "    }\n",
              "</style>\n",
              "<table border=\"1\" class=\"dataframe\">\n",
              "  <thead>\n",
              "    <tr style=\"text-align: right;\">\n",
              "      <th></th>\n",
              "      <th>Date</th>\n",
              "      <th>Close</th>\n",
              "      <th>Volume</th>\n",
              "      <th>Symbol</th>\n",
              "      <th>Date</th>\n",
              "      <th>Close</th>\n",
              "      <th>Volume</th>\n",
              "      <th>Symbol</th>\n",
              "    </tr>\n",
              "  </thead>\n",
              "  <tbody>\n",
              "    <tr>\n",
              "      <th>0</th>\n",
              "      <td>2020-07-01</td>\n",
              "      <td>2878.699951</td>\n",
              "      <td>6363400</td>\n",
              "      <td>AMZN</td>\n",
              "      <td>2020-07-01</td>\n",
              "      <td>223.925995</td>\n",
              "      <td>66634500.0</td>\n",
              "      <td>TSLA</td>\n",
              "    </tr>\n",
              "    <tr>\n",
              "      <th>1</th>\n",
              "      <td>2020-07-02</td>\n",
              "      <td>2890.300049</td>\n",
              "      <td>6593400</td>\n",
              "      <td>AMZN</td>\n",
              "      <td>2020-07-02</td>\n",
              "      <td>241.731995</td>\n",
              "      <td>86250500.0</td>\n",
              "      <td>TSLA</td>\n",
              "    </tr>\n",
              "    <tr>\n",
              "      <th>2</th>\n",
              "      <td>2020-07-06</td>\n",
              "      <td>3057.040039</td>\n",
              "      <td>6880600</td>\n",
              "      <td>AMZN</td>\n",
              "      <td>2020-07-06</td>\n",
              "      <td>274.316010</td>\n",
              "      <td>102849500.0</td>\n",
              "      <td>TSLA</td>\n",
              "    </tr>\n",
              "    <tr>\n",
              "      <th>3</th>\n",
              "      <td>2020-07-07</td>\n",
              "      <td>3000.120117</td>\n",
              "      <td>5257500</td>\n",
              "      <td>AMZN</td>\n",
              "      <td>2020-07-07</td>\n",
              "      <td>277.971985</td>\n",
              "      <td>107448500.0</td>\n",
              "      <td>TSLA</td>\n",
              "    </tr>\n",
              "    <tr>\n",
              "      <th>4</th>\n",
              "      <td>2020-07-08</td>\n",
              "      <td>3081.110107</td>\n",
              "      <td>5037600</td>\n",
              "      <td>AMZN</td>\n",
              "      <td>2020-07-08</td>\n",
              "      <td>273.175995</td>\n",
              "      <td>81556500.0</td>\n",
              "      <td>TSLA</td>\n",
              "    </tr>\n",
              "  </tbody>\n",
              "</table>\n",
              "</div>"
            ],
            "text/plain": [
              "         Date        Close   Volume  ...       Close       Volume  Symbol\n",
              "0  2020-07-01  2878.699951  6363400  ...  223.925995   66634500.0    TSLA\n",
              "1  2020-07-02  2890.300049  6593400  ...  241.731995   86250500.0    TSLA\n",
              "2  2020-07-06  3057.040039  6880600  ...  274.316010  102849500.0    TSLA\n",
              "3  2020-07-07  3000.120117  5257500  ...  277.971985  107448500.0    TSLA\n",
              "4  2020-07-08  3081.110107  5037600  ...  273.175995   81556500.0    TSLA\n",
              "\n",
              "[5 rows x 8 columns]"
            ]
          },
          "metadata": {
            "tags": []
          },
          "execution_count": 26
        }
      ]
    },
    {
      "cell_type": "code",
      "metadata": {
        "id": "3ojM-o-3ZCvr"
      },
      "source": [
        "def tidying_df(df: pd.DataFrame):\n",
        "  symbol = df['Symbol'].drop_duplicates().values[0]\n",
        "  df.drop(['Symbol', 'Volume'], axis=1, inplace=True)\n",
        "  df.set_index('Date', inplace=True)\n",
        "  df.columns = [symbol]\n",
        "  return df"
      ],
      "execution_count": 27,
      "outputs": []
    },
    {
      "cell_type": "code",
      "metadata": {
        "id": "SxouyAMNaYZh"
      },
      "source": [
        "amazon_df_agg = tidying_df(amazon_df)\n",
        "tesla_df_agg = tidying_df(tesla_df)"
      ],
      "execution_count": 28,
      "outputs": []
    },
    {
      "cell_type": "code",
      "metadata": {
        "colab": {
          "base_uri": "https://localhost:8080/",
          "height": 235
        },
        "id": "xgQcqnsganAl",
        "outputId": "a06a7e19-de7c-4560-91c4-02c2d67299f9"
      },
      "source": [
        "amazon_df_agg.head()"
      ],
      "execution_count": 29,
      "outputs": [
        {
          "output_type": "execute_result",
          "data": {
            "text/html": [
              "<div>\n",
              "<style scoped>\n",
              "    .dataframe tbody tr th:only-of-type {\n",
              "        vertical-align: middle;\n",
              "    }\n",
              "\n",
              "    .dataframe tbody tr th {\n",
              "        vertical-align: top;\n",
              "    }\n",
              "\n",
              "    .dataframe thead th {\n",
              "        text-align: right;\n",
              "    }\n",
              "</style>\n",
              "<table border=\"1\" class=\"dataframe\">\n",
              "  <thead>\n",
              "    <tr style=\"text-align: right;\">\n",
              "      <th></th>\n",
              "      <th>AMZN</th>\n",
              "    </tr>\n",
              "    <tr>\n",
              "      <th>Date</th>\n",
              "      <th></th>\n",
              "    </tr>\n",
              "  </thead>\n",
              "  <tbody>\n",
              "    <tr>\n",
              "      <th>2020-07-01</th>\n",
              "      <td>2878.699951</td>\n",
              "    </tr>\n",
              "    <tr>\n",
              "      <th>2020-07-02</th>\n",
              "      <td>2890.300049</td>\n",
              "    </tr>\n",
              "    <tr>\n",
              "      <th>2020-07-06</th>\n",
              "      <td>3057.040039</td>\n",
              "    </tr>\n",
              "    <tr>\n",
              "      <th>2020-07-07</th>\n",
              "      <td>3000.120117</td>\n",
              "    </tr>\n",
              "    <tr>\n",
              "      <th>2020-07-08</th>\n",
              "      <td>3081.110107</td>\n",
              "    </tr>\n",
              "  </tbody>\n",
              "</table>\n",
              "</div>"
            ],
            "text/plain": [
              "                   AMZN\n",
              "Date                   \n",
              "2020-07-01  2878.699951\n",
              "2020-07-02  2890.300049\n",
              "2020-07-06  3057.040039\n",
              "2020-07-07  3000.120117\n",
              "2020-07-08  3081.110107"
            ]
          },
          "metadata": {
            "tags": []
          },
          "execution_count": 29
        }
      ]
    },
    {
      "cell_type": "code",
      "metadata": {
        "colab": {
          "base_uri": "https://localhost:8080/",
          "height": 235
        },
        "id": "3bYE4ryraob0",
        "outputId": "bab56f94-713a-4b44-fb7b-86f8d52f99e1"
      },
      "source": [
        "tesla_df_agg.head()"
      ],
      "execution_count": 30,
      "outputs": [
        {
          "output_type": "execute_result",
          "data": {
            "text/html": [
              "<div>\n",
              "<style scoped>\n",
              "    .dataframe tbody tr th:only-of-type {\n",
              "        vertical-align: middle;\n",
              "    }\n",
              "\n",
              "    .dataframe tbody tr th {\n",
              "        vertical-align: top;\n",
              "    }\n",
              "\n",
              "    .dataframe thead th {\n",
              "        text-align: right;\n",
              "    }\n",
              "</style>\n",
              "<table border=\"1\" class=\"dataframe\">\n",
              "  <thead>\n",
              "    <tr style=\"text-align: right;\">\n",
              "      <th></th>\n",
              "      <th>TSLA</th>\n",
              "    </tr>\n",
              "    <tr>\n",
              "      <th>Date</th>\n",
              "      <th></th>\n",
              "    </tr>\n",
              "  </thead>\n",
              "  <tbody>\n",
              "    <tr>\n",
              "      <th>2020-07-01</th>\n",
              "      <td>223.925995</td>\n",
              "    </tr>\n",
              "    <tr>\n",
              "      <th>2020-07-02</th>\n",
              "      <td>241.731995</td>\n",
              "    </tr>\n",
              "    <tr>\n",
              "      <th>2020-07-06</th>\n",
              "      <td>274.316010</td>\n",
              "    </tr>\n",
              "    <tr>\n",
              "      <th>2020-07-07</th>\n",
              "      <td>277.971985</td>\n",
              "    </tr>\n",
              "    <tr>\n",
              "      <th>2020-07-08</th>\n",
              "      <td>273.175995</td>\n",
              "    </tr>\n",
              "  </tbody>\n",
              "</table>\n",
              "</div>"
            ],
            "text/plain": [
              "                  TSLA\n",
              "Date                  \n",
              "2020-07-01  223.925995\n",
              "2020-07-02  241.731995\n",
              "2020-07-06  274.316010\n",
              "2020-07-07  277.971985\n",
              "2020-07-08  273.175995"
            ]
          },
          "metadata": {
            "tags": []
          },
          "execution_count": 30
        }
      ]
    },
    {
      "cell_type": "code",
      "metadata": {
        "id": "azV9F9iyazYt"
      },
      "source": [
        "merged_df = amazon_df_agg.merge(tesla_df_agg, on='Date', how='inner')"
      ],
      "execution_count": 32,
      "outputs": []
    },
    {
      "cell_type": "code",
      "metadata": {
        "colab": {
          "base_uri": "https://localhost:8080/",
          "height": 235
        },
        "id": "NRIZvXOebTue",
        "outputId": "b08fb817-58c6-4c2f-d91c-ad406cc9da17"
      },
      "source": [
        "pd.concat([amazon_df_agg, tesla_df_agg], axis=1).head()"
      ],
      "execution_count": 33,
      "outputs": [
        {
          "output_type": "execute_result",
          "data": {
            "text/html": [
              "<div>\n",
              "<style scoped>\n",
              "    .dataframe tbody tr th:only-of-type {\n",
              "        vertical-align: middle;\n",
              "    }\n",
              "\n",
              "    .dataframe tbody tr th {\n",
              "        vertical-align: top;\n",
              "    }\n",
              "\n",
              "    .dataframe thead th {\n",
              "        text-align: right;\n",
              "    }\n",
              "</style>\n",
              "<table border=\"1\" class=\"dataframe\">\n",
              "  <thead>\n",
              "    <tr style=\"text-align: right;\">\n",
              "      <th></th>\n",
              "      <th>AMZN</th>\n",
              "      <th>TSLA</th>\n",
              "    </tr>\n",
              "    <tr>\n",
              "      <th>Date</th>\n",
              "      <th></th>\n",
              "      <th></th>\n",
              "    </tr>\n",
              "  </thead>\n",
              "  <tbody>\n",
              "    <tr>\n",
              "      <th>2020-07-01</th>\n",
              "      <td>2878.699951</td>\n",
              "      <td>223.925995</td>\n",
              "    </tr>\n",
              "    <tr>\n",
              "      <th>2020-07-02</th>\n",
              "      <td>2890.300049</td>\n",
              "      <td>241.731995</td>\n",
              "    </tr>\n",
              "    <tr>\n",
              "      <th>2020-07-06</th>\n",
              "      <td>3057.040039</td>\n",
              "      <td>274.316010</td>\n",
              "    </tr>\n",
              "    <tr>\n",
              "      <th>2020-07-07</th>\n",
              "      <td>3000.120117</td>\n",
              "      <td>277.971985</td>\n",
              "    </tr>\n",
              "    <tr>\n",
              "      <th>2020-07-08</th>\n",
              "      <td>3081.110107</td>\n",
              "      <td>273.175995</td>\n",
              "    </tr>\n",
              "  </tbody>\n",
              "</table>\n",
              "</div>"
            ],
            "text/plain": [
              "                   AMZN        TSLA\n",
              "Date                               \n",
              "2020-07-01  2878.699951  223.925995\n",
              "2020-07-02  2890.300049  241.731995\n",
              "2020-07-06  3057.040039  274.316010\n",
              "2020-07-07  3000.120117  277.971985\n",
              "2020-07-08  3081.110107  273.175995"
            ]
          },
          "metadata": {
            "tags": []
          },
          "execution_count": 33
        }
      ]
    },
    {
      "cell_type": "code",
      "metadata": {
        "id": "O3xKKOb6bpGE"
      },
      "source": [
        "# 3. Explode"
      ],
      "execution_count": 34,
      "outputs": []
    },
    {
      "cell_type": "code",
      "metadata": {
        "id": "HWe3ns_lcYXm"
      },
      "source": [
        "df = pd.DataFrame(\n",
        "    {\n",
        "        \"User\": ['Andy', 'Richard', 'Jeremy'],\n",
        "        \"Ratings\": [[5,4,5],[4,5,4],[4,3,5]],\n",
        "        \"System\": [['android', 'ios', 'ios'], ['android', 'android', 'android'], ['ios', 'ios', 'android']],\n",
        "    }\n",
        "\n",
        ")"
      ],
      "execution_count": 39,
      "outputs": []
    },
    {
      "cell_type": "code",
      "metadata": {
        "colab": {
          "base_uri": "https://localhost:8080/",
          "height": 142
        },
        "id": "yoCz4aC_c3wa",
        "outputId": "5602e1b1-932d-40aa-ca4c-a4b1d06fdca3"
      },
      "source": [
        "df"
      ],
      "execution_count": 40,
      "outputs": [
        {
          "output_type": "execute_result",
          "data": {
            "text/html": [
              "<div>\n",
              "<style scoped>\n",
              "    .dataframe tbody tr th:only-of-type {\n",
              "        vertical-align: middle;\n",
              "    }\n",
              "\n",
              "    .dataframe tbody tr th {\n",
              "        vertical-align: top;\n",
              "    }\n",
              "\n",
              "    .dataframe thead th {\n",
              "        text-align: right;\n",
              "    }\n",
              "</style>\n",
              "<table border=\"1\" class=\"dataframe\">\n",
              "  <thead>\n",
              "    <tr style=\"text-align: right;\">\n",
              "      <th></th>\n",
              "      <th>User</th>\n",
              "      <th>Ratings</th>\n",
              "      <th>System</th>\n",
              "    </tr>\n",
              "  </thead>\n",
              "  <tbody>\n",
              "    <tr>\n",
              "      <th>0</th>\n",
              "      <td>Andy</td>\n",
              "      <td>[5, 4, 5]</td>\n",
              "      <td>[android, ios, ios]</td>\n",
              "    </tr>\n",
              "    <tr>\n",
              "      <th>1</th>\n",
              "      <td>Richard</td>\n",
              "      <td>[4, 5, 4]</td>\n",
              "      <td>[android, android, android]</td>\n",
              "    </tr>\n",
              "    <tr>\n",
              "      <th>2</th>\n",
              "      <td>Jeremy</td>\n",
              "      <td>[4, 3, 5]</td>\n",
              "      <td>[ios, ios, android]</td>\n",
              "    </tr>\n",
              "  </tbody>\n",
              "</table>\n",
              "</div>"
            ],
            "text/plain": [
              "      User    Ratings                       System\n",
              "0     Andy  [5, 4, 5]          [android, ios, ios]\n",
              "1  Richard  [4, 5, 4]  [android, android, android]\n",
              "2   Jeremy  [4, 3, 5]          [ios, ios, android]"
            ]
          },
          "metadata": {
            "tags": []
          },
          "execution_count": 40
        }
      ]
    },
    {
      "cell_type": "code",
      "metadata": {
        "colab": {
          "base_uri": "https://localhost:8080/",
          "height": 328
        },
        "id": "34tDdc-Ec43W",
        "outputId": "7b2d95e1-cf09-4b13-8976-f41fcea2d133"
      },
      "source": [
        "df.explode('Ratings').reset_index(drop=True)"
      ],
      "execution_count": 38,
      "outputs": [
        {
          "output_type": "execute_result",
          "data": {
            "text/html": [
              "<div>\n",
              "<style scoped>\n",
              "    .dataframe tbody tr th:only-of-type {\n",
              "        vertical-align: middle;\n",
              "    }\n",
              "\n",
              "    .dataframe tbody tr th {\n",
              "        vertical-align: top;\n",
              "    }\n",
              "\n",
              "    .dataframe thead th {\n",
              "        text-align: right;\n",
              "    }\n",
              "</style>\n",
              "<table border=\"1\" class=\"dataframe\">\n",
              "  <thead>\n",
              "    <tr style=\"text-align: right;\">\n",
              "      <th></th>\n",
              "      <th>User</th>\n",
              "      <th>Ratings</th>\n",
              "    </tr>\n",
              "  </thead>\n",
              "  <tbody>\n",
              "    <tr>\n",
              "      <th>0</th>\n",
              "      <td>Andy</td>\n",
              "      <td>5</td>\n",
              "    </tr>\n",
              "    <tr>\n",
              "      <th>1</th>\n",
              "      <td>Andy</td>\n",
              "      <td>4</td>\n",
              "    </tr>\n",
              "    <tr>\n",
              "      <th>2</th>\n",
              "      <td>Andy</td>\n",
              "      <td>5</td>\n",
              "    </tr>\n",
              "    <tr>\n",
              "      <th>3</th>\n",
              "      <td>Richard</td>\n",
              "      <td>4</td>\n",
              "    </tr>\n",
              "    <tr>\n",
              "      <th>4</th>\n",
              "      <td>Richard</td>\n",
              "      <td>5</td>\n",
              "    </tr>\n",
              "    <tr>\n",
              "      <th>5</th>\n",
              "      <td>Richard</td>\n",
              "      <td>4</td>\n",
              "    </tr>\n",
              "    <tr>\n",
              "      <th>6</th>\n",
              "      <td>Jeremy</td>\n",
              "      <td>4</td>\n",
              "    </tr>\n",
              "    <tr>\n",
              "      <th>7</th>\n",
              "      <td>Jeremy</td>\n",
              "      <td>3</td>\n",
              "    </tr>\n",
              "    <tr>\n",
              "      <th>8</th>\n",
              "      <td>Jeremy</td>\n",
              "      <td>5</td>\n",
              "    </tr>\n",
              "  </tbody>\n",
              "</table>\n",
              "</div>"
            ],
            "text/plain": [
              "      User Ratings\n",
              "0     Andy       5\n",
              "1     Andy       4\n",
              "2     Andy       5\n",
              "3  Richard       4\n",
              "4  Richard       5\n",
              "5  Richard       4\n",
              "6   Jeremy       4\n",
              "7   Jeremy       3\n",
              "8   Jeremy       5"
            ]
          },
          "metadata": {
            "tags": []
          },
          "execution_count": 38
        }
      ]
    },
    {
      "cell_type": "code",
      "metadata": {
        "colab": {
          "base_uri": "https://localhost:8080/",
          "height": 328
        },
        "id": "oWUn2xmFdHCP",
        "outputId": "7d7e3c88-041a-4b9e-89ce-e935d74f3809"
      },
      "source": [
        "df.set_index('User').apply(pd.Series.explode).reset_index()"
      ],
      "execution_count": 41,
      "outputs": [
        {
          "output_type": "execute_result",
          "data": {
            "text/html": [
              "<div>\n",
              "<style scoped>\n",
              "    .dataframe tbody tr th:only-of-type {\n",
              "        vertical-align: middle;\n",
              "    }\n",
              "\n",
              "    .dataframe tbody tr th {\n",
              "        vertical-align: top;\n",
              "    }\n",
              "\n",
              "    .dataframe thead th {\n",
              "        text-align: right;\n",
              "    }\n",
              "</style>\n",
              "<table border=\"1\" class=\"dataframe\">\n",
              "  <thead>\n",
              "    <tr style=\"text-align: right;\">\n",
              "      <th></th>\n",
              "      <th>User</th>\n",
              "      <th>Ratings</th>\n",
              "      <th>System</th>\n",
              "    </tr>\n",
              "  </thead>\n",
              "  <tbody>\n",
              "    <tr>\n",
              "      <th>0</th>\n",
              "      <td>Andy</td>\n",
              "      <td>5</td>\n",
              "      <td>android</td>\n",
              "    </tr>\n",
              "    <tr>\n",
              "      <th>1</th>\n",
              "      <td>Andy</td>\n",
              "      <td>4</td>\n",
              "      <td>ios</td>\n",
              "    </tr>\n",
              "    <tr>\n",
              "      <th>2</th>\n",
              "      <td>Andy</td>\n",
              "      <td>5</td>\n",
              "      <td>ios</td>\n",
              "    </tr>\n",
              "    <tr>\n",
              "      <th>3</th>\n",
              "      <td>Richard</td>\n",
              "      <td>4</td>\n",
              "      <td>android</td>\n",
              "    </tr>\n",
              "    <tr>\n",
              "      <th>4</th>\n",
              "      <td>Richard</td>\n",
              "      <td>5</td>\n",
              "      <td>android</td>\n",
              "    </tr>\n",
              "    <tr>\n",
              "      <th>5</th>\n",
              "      <td>Richard</td>\n",
              "      <td>4</td>\n",
              "      <td>android</td>\n",
              "    </tr>\n",
              "    <tr>\n",
              "      <th>6</th>\n",
              "      <td>Jeremy</td>\n",
              "      <td>4</td>\n",
              "      <td>ios</td>\n",
              "    </tr>\n",
              "    <tr>\n",
              "      <th>7</th>\n",
              "      <td>Jeremy</td>\n",
              "      <td>3</td>\n",
              "      <td>ios</td>\n",
              "    </tr>\n",
              "    <tr>\n",
              "      <th>8</th>\n",
              "      <td>Jeremy</td>\n",
              "      <td>5</td>\n",
              "      <td>android</td>\n",
              "    </tr>\n",
              "  </tbody>\n",
              "</table>\n",
              "</div>"
            ],
            "text/plain": [
              "      User Ratings   System\n",
              "0     Andy       5  android\n",
              "1     Andy       4      ios\n",
              "2     Andy       5      ios\n",
              "3  Richard       4  android\n",
              "4  Richard       5  android\n",
              "5  Richard       4  android\n",
              "6   Jeremy       4      ios\n",
              "7   Jeremy       3      ios\n",
              "8   Jeremy       5  android"
            ]
          },
          "metadata": {
            "tags": []
          },
          "execution_count": 41
        }
      ]
    },
    {
      "cell_type": "code",
      "metadata": {
        "id": "Wp52Xx1xd-Si"
      },
      "source": [
        ""
      ],
      "execution_count": null,
      "outputs": []
    }
  ]
}