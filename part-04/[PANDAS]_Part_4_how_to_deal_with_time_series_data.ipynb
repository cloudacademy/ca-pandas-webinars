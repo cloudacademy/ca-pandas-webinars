{
 "cells": [
  {
   "cell_type": "code",
   "execution_count": null,
   "metadata": {
    "colab": {
     "base_uri": "https://localhost:8080/"
    },
    "id": "1UFZA5WDkNUs",
    "outputId": "cf6cb1f4-c425-437f-9a25-73d476314747"
   },
   "outputs": [],
   "source": [
    "from google.colab import drive\n",
    "drive.mount('/content/drive')"
   ]
  },
  {
   "cell_type": "code",
   "execution_count": null,
   "metadata": {
    "id": "uQSHAuY3Tmk-"
   },
   "outputs": [],
   "source": [
    "import pandas as pd"
   ]
  },
  {
   "cell_type": "code",
   "execution_count": null,
   "metadata": {
    "id": "IJAU_oSiTtNx"
   },
   "outputs": [],
   "source": [
    "amzn_df = pd.read_csv('/content/drive/MyDrive/ca.webinars/ca-pandas-webinars/data/amzn.csv')\n",
    "tsla_df = pd.read_csv('/content/drive/MyDrive/ca.webinars/ca-pandas-webinars/data/tsla.csv')"
   ]
  },
  {
   "cell_type": "code",
   "execution_count": null,
   "metadata": {
    "colab": {
     "base_uri": "https://localhost:8080/",
     "height": 204
    },
    "id": "r7fnY3AHUMC9",
    "outputId": "3143833e-cd85-44d7-a768-627337e09b2c"
   },
   "outputs": [],
   "source": [
    "amzn_df.info()"
   ]
  }
 ],
 "metadata": {
  "colab": {
   "collapsed_sections": [],
   "name": "[PANDAS] Part 4 - How to deal with time series data.ipynb",
   "provenance": []
  },
  "kernelspec": {
   "display_name": "Python 3",
   "language": "python",
   "name": "python3"
  },
  "language_info": {
   "codemirror_mode": {
    "name": "ipython",
    "version": 3
   },
   "file_extension": ".py",
   "mimetype": "text/x-python",
   "name": "python",
   "nbconvert_exporter": "python",
   "pygments_lexer": "ipython3",
   "version": "3.7.3"
  }
 },
 "nbformat": 4,
 "nbformat_minor": 1
}
