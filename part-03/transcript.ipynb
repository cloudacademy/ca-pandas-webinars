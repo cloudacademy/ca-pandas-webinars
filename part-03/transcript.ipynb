{
  "nbformat": 4,
  "nbformat_minor": 0,
  "metadata": {
    "colab": {
      "name": "[Pandas Like a Boss] How to transform your Data.ipynb",
      "provenance": []
    },
    "kernelspec": {
      "name": "python3",
      "display_name": "Python 3"
    }
  },
  "cells": [
    {
      "cell_type": "code",
      "metadata": {
        "colab": {
          "base_uri": "https://localhost:8080/"
        },
        "id": "9KO0btkH-0zV",
        "outputId": "1e2013e7-d171-4ddc-acb6-ecaa7d576e38"
      },
      "source": [
        "from google.colab import drive\n",
        "drive.mount('/content/drive')"
      ],
      "execution_count": 1,
      "outputs": [
        {
          "output_type": "stream",
          "text": [
            "Mounted at /content/drive\n"
          ],
          "name": "stdout"
        }
      ]
    },
    {
      "cell_type": "code",
      "metadata": {
        "id": "emCVp0m3TP-i"
      },
      "source": [
        "import pandas as pd"
      ],
      "execution_count": 2,
      "outputs": []
    },
    {
      "cell_type": "code",
      "metadata": {
        "id": "Vv1EFLlbThUY"
      },
      "source": [
        "amazon_df = pd.read_csv('/content/drive/MyDrive/ca.webinars/Pandas Series/data/amzn.csv', index_col=0, parse_dates=['Date'])\n",
        "tesla_df = pd.read_csv('/content/drive/MyDrive/ca.webinars/Pandas Series/data/tsla.csv', index_col=0, parse_dates=['Date'])"
      ],
      "execution_count": 7,
      "outputs": []
    },
    {
      "cell_type": "code",
      "metadata": {
        "colab": {
          "base_uri": "https://localhost:8080/"
        },
        "id": "OshnToiPT9IF",
        "outputId": "e1c29afa-b2a6-4764-ab52-1c82809de0fa"
      },
      "source": [
        "amazon_df.info()"
      ],
      "execution_count": 8,
      "outputs": [
        {
          "output_type": "stream",
          "text": [
            "<class 'pandas.core.frame.DataFrame'>\n",
            "Int64Index: 147 entries, 0 to 146\n",
            "Data columns (total 4 columns):\n",
            " #   Column  Non-Null Count  Dtype         \n",
            "---  ------  --------------  -----         \n",
            " 0   Date    147 non-null    datetime64[ns]\n",
            " 1   Close   147 non-null    float64       \n",
            " 2   Volume  147 non-null    int64         \n",
            " 3   Symbol  147 non-null    object        \n",
            "dtypes: datetime64[ns](1), float64(1), int64(1), object(1)\n",
            "memory usage: 5.7+ KB\n"
          ],
          "name": "stdout"
        }
      ]
    },
    {
      "cell_type": "code",
      "metadata": {
        "id": "QNTPWodIUGNN"
      },
      "source": [
        "df = pd.concat([amazon_df, tesla_df]).sort_values(by=['Date', 'Symbol'], ascending=True).reset_index(drop=True)"
      ],
      "execution_count": 11,
      "outputs": []
    },
    {
      "cell_type": "code",
      "metadata": {
        "colab": {
          "base_uri": "https://localhost:8080/",
          "height": 204
        },
        "id": "F7lIf17rU9HK",
        "outputId": "9c4f1eef-ec08-47a2-94b6-36d61736aab6"
      },
      "source": [
        "df.head()"
      ],
      "execution_count": 12,
      "outputs": [
        {
          "output_type": "execute_result",
          "data": {
            "text/html": [
              "<div>\n",
              "<style scoped>\n",
              "    .dataframe tbody tr th:only-of-type {\n",
              "        vertical-align: middle;\n",
              "    }\n",
              "\n",
              "    .dataframe tbody tr th {\n",
              "        vertical-align: top;\n",
              "    }\n",
              "\n",
              "    .dataframe thead th {\n",
              "        text-align: right;\n",
              "    }\n",
              "</style>\n",
              "<table border=\"1\" class=\"dataframe\">\n",
              "  <thead>\n",
              "    <tr style=\"text-align: right;\">\n",
              "      <th></th>\n",
              "      <th>Date</th>\n",
              "      <th>Close</th>\n",
              "      <th>Volume</th>\n",
              "      <th>Symbol</th>\n",
              "    </tr>\n",
              "  </thead>\n",
              "  <tbody>\n",
              "    <tr>\n",
              "      <th>0</th>\n",
              "      <td>2020-07-01</td>\n",
              "      <td>2878.699951</td>\n",
              "      <td>6363400.0</td>\n",
              "      <td>AMZN</td>\n",
              "    </tr>\n",
              "    <tr>\n",
              "      <th>1</th>\n",
              "      <td>2020-07-01</td>\n",
              "      <td>223.925995</td>\n",
              "      <td>66634500.0</td>\n",
              "      <td>TSLA</td>\n",
              "    </tr>\n",
              "    <tr>\n",
              "      <th>2</th>\n",
              "      <td>2020-07-02</td>\n",
              "      <td>2890.300049</td>\n",
              "      <td>6593400.0</td>\n",
              "      <td>AMZN</td>\n",
              "    </tr>\n",
              "    <tr>\n",
              "      <th>3</th>\n",
              "      <td>2020-07-02</td>\n",
              "      <td>241.731995</td>\n",
              "      <td>86250500.0</td>\n",
              "      <td>TSLA</td>\n",
              "    </tr>\n",
              "    <tr>\n",
              "      <th>4</th>\n",
              "      <td>2020-07-06</td>\n",
              "      <td>3057.040039</td>\n",
              "      <td>6880600.0</td>\n",
              "      <td>AMZN</td>\n",
              "    </tr>\n",
              "  </tbody>\n",
              "</table>\n",
              "</div>"
            ],
            "text/plain": [
              "        Date        Close      Volume Symbol\n",
              "0 2020-07-01  2878.699951   6363400.0   AMZN\n",
              "1 2020-07-01   223.925995  66634500.0   TSLA\n",
              "2 2020-07-02  2890.300049   6593400.0   AMZN\n",
              "3 2020-07-02   241.731995  86250500.0   TSLA\n",
              "4 2020-07-06  3057.040039   6880600.0   AMZN"
            ]
          },
          "metadata": {
            "tags": []
          },
          "execution_count": 12
        }
      ]
    },
    {
      "cell_type": "code",
      "metadata": {
        "id": "_5PRk1-ZU9-x"
      },
      "source": [
        "# 1. PIVOT"
      ],
      "execution_count": 13,
      "outputs": []
    },
    {
      "cell_type": "code",
      "metadata": {
        "id": "yrM6nKlOc9pe"
      },
      "source": [
        "# df.drop([\"drop the columns you don't want\"], axis=1)"
      ],
      "execution_count": null,
      "outputs": []
    },
    {
      "cell_type": "code",
      "metadata": {
        "id": "BLIV0ivyVVyc"
      },
      "source": [
        "pivot_df = pd.pivot(data=df, index='Date', columns='Symbol', values=['Close', 'Volume']).sort_index()"
      ],
      "execution_count": 16,
      "outputs": []
    },
    {
      "cell_type": "code",
      "metadata": {
        "colab": {
          "base_uri": "https://localhost:8080/",
          "height": 421
        },
        "id": "plRVCeK0V-KD",
        "outputId": "81bf843e-9a57-4f4b-de68-22502d3e641a"
      },
      "source": [
        "pivot_df.head(10)"
      ],
      "execution_count": 17,
      "outputs": [
        {
          "output_type": "execute_result",
          "data": {
            "text/html": [
              "<div>\n",
              "<style scoped>\n",
              "    .dataframe tbody tr th:only-of-type {\n",
              "        vertical-align: middle;\n",
              "    }\n",
              "\n",
              "    .dataframe tbody tr th {\n",
              "        vertical-align: top;\n",
              "    }\n",
              "\n",
              "    .dataframe thead tr th {\n",
              "        text-align: left;\n",
              "    }\n",
              "\n",
              "    .dataframe thead tr:last-of-type th {\n",
              "        text-align: right;\n",
              "    }\n",
              "</style>\n",
              "<table border=\"1\" class=\"dataframe\">\n",
              "  <thead>\n",
              "    <tr>\n",
              "      <th></th>\n",
              "      <th colspan=\"2\" halign=\"left\">Close</th>\n",
              "      <th colspan=\"2\" halign=\"left\">Volume</th>\n",
              "    </tr>\n",
              "    <tr>\n",
              "      <th>Symbol</th>\n",
              "      <th>AMZN</th>\n",
              "      <th>TSLA</th>\n",
              "      <th>AMZN</th>\n",
              "      <th>TSLA</th>\n",
              "    </tr>\n",
              "    <tr>\n",
              "      <th>Date</th>\n",
              "      <th></th>\n",
              "      <th></th>\n",
              "      <th></th>\n",
              "      <th></th>\n",
              "    </tr>\n",
              "  </thead>\n",
              "  <tbody>\n",
              "    <tr>\n",
              "      <th>2020-07-01</th>\n",
              "      <td>2878.699951</td>\n",
              "      <td>223.925995</td>\n",
              "      <td>6363400.0</td>\n",
              "      <td>66634500.0</td>\n",
              "    </tr>\n",
              "    <tr>\n",
              "      <th>2020-07-02</th>\n",
              "      <td>2890.300049</td>\n",
              "      <td>241.731995</td>\n",
              "      <td>6593400.0</td>\n",
              "      <td>86250500.0</td>\n",
              "    </tr>\n",
              "    <tr>\n",
              "      <th>2020-07-06</th>\n",
              "      <td>3057.040039</td>\n",
              "      <td>274.316010</td>\n",
              "      <td>6880600.0</td>\n",
              "      <td>102849500.0</td>\n",
              "    </tr>\n",
              "    <tr>\n",
              "      <th>2020-07-07</th>\n",
              "      <td>3000.120117</td>\n",
              "      <td>277.971985</td>\n",
              "      <td>5257500.0</td>\n",
              "      <td>107448500.0</td>\n",
              "    </tr>\n",
              "    <tr>\n",
              "      <th>2020-07-08</th>\n",
              "      <td>3081.110107</td>\n",
              "      <td>273.175995</td>\n",
              "      <td>5037600.0</td>\n",
              "      <td>81556500.0</td>\n",
              "    </tr>\n",
              "    <tr>\n",
              "      <th>2020-07-09</th>\n",
              "      <td>3182.629883</td>\n",
              "      <td>278.855988</td>\n",
              "      <td>6388700.0</td>\n",
              "      <td>58588000.0</td>\n",
              "    </tr>\n",
              "    <tr>\n",
              "      <th>2020-07-10</th>\n",
              "      <td>3200.000000</td>\n",
              "      <td>308.929993</td>\n",
              "      <td>5486000.0</td>\n",
              "      <td>116688000.0</td>\n",
              "    </tr>\n",
              "    <tr>\n",
              "      <th>2020-07-13</th>\n",
              "      <td>3104.000000</td>\n",
              "      <td>299.411987</td>\n",
              "      <td>7720400.0</td>\n",
              "      <td>194927000.0</td>\n",
              "    </tr>\n",
              "    <tr>\n",
              "      <th>2020-07-14</th>\n",
              "      <td>3084.000000</td>\n",
              "      <td>303.359985</td>\n",
              "      <td>7231900.0</td>\n",
              "      <td>117090500.0</td>\n",
              "    </tr>\n",
              "    <tr>\n",
              "      <th>2020-07-15</th>\n",
              "      <td>3008.870117</td>\n",
              "      <td>309.201996</td>\n",
              "      <td>5788900.0</td>\n",
              "      <td>81839000.0</td>\n",
              "    </tr>\n",
              "  </tbody>\n",
              "</table>\n",
              "</div>"
            ],
            "text/plain": [
              "                  Close                 Volume             \n",
              "Symbol             AMZN        TSLA       AMZN         TSLA\n",
              "Date                                                       \n",
              "2020-07-01  2878.699951  223.925995  6363400.0   66634500.0\n",
              "2020-07-02  2890.300049  241.731995  6593400.0   86250500.0\n",
              "2020-07-06  3057.040039  274.316010  6880600.0  102849500.0\n",
              "2020-07-07  3000.120117  277.971985  5257500.0  107448500.0\n",
              "2020-07-08  3081.110107  273.175995  5037600.0   81556500.0\n",
              "2020-07-09  3182.629883  278.855988  6388700.0   58588000.0\n",
              "2020-07-10  3200.000000  308.929993  5486000.0  116688000.0\n",
              "2020-07-13  3104.000000  299.411987  7720400.0  194927000.0\n",
              "2020-07-14  3084.000000  303.359985  7231900.0  117090500.0\n",
              "2020-07-15  3008.870117  309.201996  5788900.0   81839000.0"
            ]
          },
          "metadata": {
            "tags": []
          },
          "execution_count": 17
        }
      ]
    },
    {
      "cell_type": "code",
      "metadata": {
        "id": "dA1aITd6V_x3"
      },
      "source": [
        "pivot_df_new = pd.pivot(data=df, index='Date', columns='Symbol', values='Close').sort_index()"
      ],
      "execution_count": 21,
      "outputs": []
    },
    {
      "cell_type": "code",
      "metadata": {
        "colab": {
          "base_uri": "https://localhost:8080/",
          "height": 390
        },
        "id": "V7EDXfifWvFy",
        "outputId": "09fecf35-cb72-44fa-f81c-0231ea0db5cc"
      },
      "source": [
        "pivot_df_new.head(10)"
      ],
      "execution_count": 22,
      "outputs": [
        {
          "output_type": "execute_result",
          "data": {
            "text/html": [
              "<div>\n",
              "<style scoped>\n",
              "    .dataframe tbody tr th:only-of-type {\n",
              "        vertical-align: middle;\n",
              "    }\n",
              "\n",
              "    .dataframe tbody tr th {\n",
              "        vertical-align: top;\n",
              "    }\n",
              "\n",
              "    .dataframe thead th {\n",
              "        text-align: right;\n",
              "    }\n",
              "</style>\n",
              "<table border=\"1\" class=\"dataframe\">\n",
              "  <thead>\n",
              "    <tr style=\"text-align: right;\">\n",
              "      <th>Symbol</th>\n",
              "      <th>AMZN</th>\n",
              "      <th>TSLA</th>\n",
              "    </tr>\n",
              "    <tr>\n",
              "      <th>Date</th>\n",
              "      <th></th>\n",
              "      <th></th>\n",
              "    </tr>\n",
              "  </thead>\n",
              "  <tbody>\n",
              "    <tr>\n",
              "      <th>2020-07-01</th>\n",
              "      <td>2878.699951</td>\n",
              "      <td>223.925995</td>\n",
              "    </tr>\n",
              "    <tr>\n",
              "      <th>2020-07-02</th>\n",
              "      <td>2890.300049</td>\n",
              "      <td>241.731995</td>\n",
              "    </tr>\n",
              "    <tr>\n",
              "      <th>2020-07-06</th>\n",
              "      <td>3057.040039</td>\n",
              "      <td>274.316010</td>\n",
              "    </tr>\n",
              "    <tr>\n",
              "      <th>2020-07-07</th>\n",
              "      <td>3000.120117</td>\n",
              "      <td>277.971985</td>\n",
              "    </tr>\n",
              "    <tr>\n",
              "      <th>2020-07-08</th>\n",
              "      <td>3081.110107</td>\n",
              "      <td>273.175995</td>\n",
              "    </tr>\n",
              "    <tr>\n",
              "      <th>2020-07-09</th>\n",
              "      <td>3182.629883</td>\n",
              "      <td>278.855988</td>\n",
              "    </tr>\n",
              "    <tr>\n",
              "      <th>2020-07-10</th>\n",
              "      <td>3200.000000</td>\n",
              "      <td>308.929993</td>\n",
              "    </tr>\n",
              "    <tr>\n",
              "      <th>2020-07-13</th>\n",
              "      <td>3104.000000</td>\n",
              "      <td>299.411987</td>\n",
              "    </tr>\n",
              "    <tr>\n",
              "      <th>2020-07-14</th>\n",
              "      <td>3084.000000</td>\n",
              "      <td>303.359985</td>\n",
              "    </tr>\n",
              "    <tr>\n",
              "      <th>2020-07-15</th>\n",
              "      <td>3008.870117</td>\n",
              "      <td>309.201996</td>\n",
              "    </tr>\n",
              "  </tbody>\n",
              "</table>\n",
              "</div>"
            ],
            "text/plain": [
              "Symbol             AMZN        TSLA\n",
              "Date                               \n",
              "2020-07-01  2878.699951  223.925995\n",
              "2020-07-02  2890.300049  241.731995\n",
              "2020-07-06  3057.040039  274.316010\n",
              "2020-07-07  3000.120117  277.971985\n",
              "2020-07-08  3081.110107  273.175995\n",
              "2020-07-09  3182.629883  278.855988\n",
              "2020-07-10  3200.000000  308.929993\n",
              "2020-07-13  3104.000000  299.411987\n",
              "2020-07-14  3084.000000  303.359985\n",
              "2020-07-15  3008.870117  309.201996"
            ]
          },
          "metadata": {
            "tags": []
          },
          "execution_count": 22
        }
      ]
    },
    {
      "cell_type": "code",
      "metadata": {
        "id": "DjXDGyqAWxTg"
      },
      "source": [
        "# 2. UNSTACK"
      ],
      "execution_count": 20,
      "outputs": []
    },
    {
      "cell_type": "code",
      "metadata": {
        "id": "SawJeaRiXFpD"
      },
      "source": [
        "another_df = df.set_index(['Date', 'Symbol'])"
      ],
      "execution_count": 24,
      "outputs": []
    },
    {
      "cell_type": "code",
      "metadata": {
        "colab": {
          "base_uri": "https://localhost:8080/",
          "height": 235
        },
        "id": "IFjmpHEYXjXQ",
        "outputId": "c346f301-08c1-473e-8210-bf49b1f1c3b3"
      },
      "source": [
        "another_df.head()"
      ],
      "execution_count": 25,
      "outputs": [
        {
          "output_type": "execute_result",
          "data": {
            "text/html": [
              "<div>\n",
              "<style scoped>\n",
              "    .dataframe tbody tr th:only-of-type {\n",
              "        vertical-align: middle;\n",
              "    }\n",
              "\n",
              "    .dataframe tbody tr th {\n",
              "        vertical-align: top;\n",
              "    }\n",
              "\n",
              "    .dataframe thead th {\n",
              "        text-align: right;\n",
              "    }\n",
              "</style>\n",
              "<table border=\"1\" class=\"dataframe\">\n",
              "  <thead>\n",
              "    <tr style=\"text-align: right;\">\n",
              "      <th></th>\n",
              "      <th></th>\n",
              "      <th>Close</th>\n",
              "      <th>Volume</th>\n",
              "    </tr>\n",
              "    <tr>\n",
              "      <th>Date</th>\n",
              "      <th>Symbol</th>\n",
              "      <th></th>\n",
              "      <th></th>\n",
              "    </tr>\n",
              "  </thead>\n",
              "  <tbody>\n",
              "    <tr>\n",
              "      <th rowspan=\"2\" valign=\"top\">2020-07-01</th>\n",
              "      <th>AMZN</th>\n",
              "      <td>2878.699951</td>\n",
              "      <td>6363400.0</td>\n",
              "    </tr>\n",
              "    <tr>\n",
              "      <th>TSLA</th>\n",
              "      <td>223.925995</td>\n",
              "      <td>66634500.0</td>\n",
              "    </tr>\n",
              "    <tr>\n",
              "      <th rowspan=\"2\" valign=\"top\">2020-07-02</th>\n",
              "      <th>AMZN</th>\n",
              "      <td>2890.300049</td>\n",
              "      <td>6593400.0</td>\n",
              "    </tr>\n",
              "    <tr>\n",
              "      <th>TSLA</th>\n",
              "      <td>241.731995</td>\n",
              "      <td>86250500.0</td>\n",
              "    </tr>\n",
              "    <tr>\n",
              "      <th>2020-07-06</th>\n",
              "      <th>AMZN</th>\n",
              "      <td>3057.040039</td>\n",
              "      <td>6880600.0</td>\n",
              "    </tr>\n",
              "  </tbody>\n",
              "</table>\n",
              "</div>"
            ],
            "text/plain": [
              "                         Close      Volume\n",
              "Date       Symbol                         \n",
              "2020-07-01 AMZN    2878.699951   6363400.0\n",
              "           TSLA     223.925995  66634500.0\n",
              "2020-07-02 AMZN    2890.300049   6593400.0\n",
              "           TSLA     241.731995  86250500.0\n",
              "2020-07-06 AMZN    3057.040039   6880600.0"
            ]
          },
          "metadata": {
            "tags": []
          },
          "execution_count": 25
        }
      ]
    },
    {
      "cell_type": "code",
      "metadata": {
        "colab": {
          "base_uri": "https://localhost:8080/",
          "height": 421
        },
        "id": "WO0aI8YTXtGb",
        "outputId": "cd92206f-f086-4927-ef03-e4ad13a2554e"
      },
      "source": [
        "another_df.drop(['Volume'], axis=1).unstack(level='Symbol').head(10)"
      ],
      "execution_count": 27,
      "outputs": [
        {
          "output_type": "execute_result",
          "data": {
            "text/html": [
              "<div>\n",
              "<style scoped>\n",
              "    .dataframe tbody tr th:only-of-type {\n",
              "        vertical-align: middle;\n",
              "    }\n",
              "\n",
              "    .dataframe tbody tr th {\n",
              "        vertical-align: top;\n",
              "    }\n",
              "\n",
              "    .dataframe thead tr th {\n",
              "        text-align: left;\n",
              "    }\n",
              "\n",
              "    .dataframe thead tr:last-of-type th {\n",
              "        text-align: right;\n",
              "    }\n",
              "</style>\n",
              "<table border=\"1\" class=\"dataframe\">\n",
              "  <thead>\n",
              "    <tr>\n",
              "      <th></th>\n",
              "      <th colspan=\"2\" halign=\"left\">Close</th>\n",
              "    </tr>\n",
              "    <tr>\n",
              "      <th>Symbol</th>\n",
              "      <th>AMZN</th>\n",
              "      <th>TSLA</th>\n",
              "    </tr>\n",
              "    <tr>\n",
              "      <th>Date</th>\n",
              "      <th></th>\n",
              "      <th></th>\n",
              "    </tr>\n",
              "  </thead>\n",
              "  <tbody>\n",
              "    <tr>\n",
              "      <th>2020-07-01</th>\n",
              "      <td>2878.699951</td>\n",
              "      <td>223.925995</td>\n",
              "    </tr>\n",
              "    <tr>\n",
              "      <th>2020-07-02</th>\n",
              "      <td>2890.300049</td>\n",
              "      <td>241.731995</td>\n",
              "    </tr>\n",
              "    <tr>\n",
              "      <th>2020-07-06</th>\n",
              "      <td>3057.040039</td>\n",
              "      <td>274.316010</td>\n",
              "    </tr>\n",
              "    <tr>\n",
              "      <th>2020-07-07</th>\n",
              "      <td>3000.120117</td>\n",
              "      <td>277.971985</td>\n",
              "    </tr>\n",
              "    <tr>\n",
              "      <th>2020-07-08</th>\n",
              "      <td>3081.110107</td>\n",
              "      <td>273.175995</td>\n",
              "    </tr>\n",
              "    <tr>\n",
              "      <th>2020-07-09</th>\n",
              "      <td>3182.629883</td>\n",
              "      <td>278.855988</td>\n",
              "    </tr>\n",
              "    <tr>\n",
              "      <th>2020-07-10</th>\n",
              "      <td>3200.000000</td>\n",
              "      <td>308.929993</td>\n",
              "    </tr>\n",
              "    <tr>\n",
              "      <th>2020-07-13</th>\n",
              "      <td>3104.000000</td>\n",
              "      <td>299.411987</td>\n",
              "    </tr>\n",
              "    <tr>\n",
              "      <th>2020-07-14</th>\n",
              "      <td>3084.000000</td>\n",
              "      <td>303.359985</td>\n",
              "    </tr>\n",
              "    <tr>\n",
              "      <th>2020-07-15</th>\n",
              "      <td>3008.870117</td>\n",
              "      <td>309.201996</td>\n",
              "    </tr>\n",
              "  </tbody>\n",
              "</table>\n",
              "</div>"
            ],
            "text/plain": [
              "                  Close            \n",
              "Symbol             AMZN        TSLA\n",
              "Date                               \n",
              "2020-07-01  2878.699951  223.925995\n",
              "2020-07-02  2890.300049  241.731995\n",
              "2020-07-06  3057.040039  274.316010\n",
              "2020-07-07  3000.120117  277.971985\n",
              "2020-07-08  3081.110107  273.175995\n",
              "2020-07-09  3182.629883  278.855988\n",
              "2020-07-10  3200.000000  308.929993\n",
              "2020-07-13  3104.000000  299.411987\n",
              "2020-07-14  3084.000000  303.359985\n",
              "2020-07-15  3008.870117  309.201996"
            ]
          },
          "metadata": {
            "tags": []
          },
          "execution_count": 27
        }
      ]
    },
    {
      "cell_type": "code",
      "metadata": {
        "id": "4vlo73T5X62I"
      },
      "source": [
        "# 3. Pivot Table"
      ],
      "execution_count": 28,
      "outputs": []
    },
    {
      "cell_type": "code",
      "metadata": {
        "id": "JaZAJO7yYTWJ"
      },
      "source": [
        "pivot_table_df = pd.pivot_table(data=df, values='Close', index='Date', aggfunc='mean')"
      ],
      "execution_count": 29,
      "outputs": []
    },
    {
      "cell_type": "code",
      "metadata": {
        "colab": {
          "base_uri": "https://localhost:8080/",
          "height": 390
        },
        "id": "KTY6wWi3ZMNJ",
        "outputId": "5092a59c-f02d-448f-b3ac-4b3b5ee32f62"
      },
      "source": [
        "pivot_table_df.head(10)"
      ],
      "execution_count": 30,
      "outputs": [
        {
          "output_type": "execute_result",
          "data": {
            "text/html": [
              "<div>\n",
              "<style scoped>\n",
              "    .dataframe tbody tr th:only-of-type {\n",
              "        vertical-align: middle;\n",
              "    }\n",
              "\n",
              "    .dataframe tbody tr th {\n",
              "        vertical-align: top;\n",
              "    }\n",
              "\n",
              "    .dataframe thead th {\n",
              "        text-align: right;\n",
              "    }\n",
              "</style>\n",
              "<table border=\"1\" class=\"dataframe\">\n",
              "  <thead>\n",
              "    <tr style=\"text-align: right;\">\n",
              "      <th></th>\n",
              "      <th>Close</th>\n",
              "    </tr>\n",
              "    <tr>\n",
              "      <th>Date</th>\n",
              "      <th></th>\n",
              "    </tr>\n",
              "  </thead>\n",
              "  <tbody>\n",
              "    <tr>\n",
              "      <th>2020-07-01</th>\n",
              "      <td>1551.312973</td>\n",
              "    </tr>\n",
              "    <tr>\n",
              "      <th>2020-07-02</th>\n",
              "      <td>1566.016022</td>\n",
              "    </tr>\n",
              "    <tr>\n",
              "      <th>2020-07-06</th>\n",
              "      <td>1665.678024</td>\n",
              "    </tr>\n",
              "    <tr>\n",
              "      <th>2020-07-07</th>\n",
              "      <td>1639.046051</td>\n",
              "    </tr>\n",
              "    <tr>\n",
              "      <th>2020-07-08</th>\n",
              "      <td>1677.143051</td>\n",
              "    </tr>\n",
              "    <tr>\n",
              "      <th>2020-07-09</th>\n",
              "      <td>1730.742935</td>\n",
              "    </tr>\n",
              "    <tr>\n",
              "      <th>2020-07-10</th>\n",
              "      <td>1754.464996</td>\n",
              "    </tr>\n",
              "    <tr>\n",
              "      <th>2020-07-13</th>\n",
              "      <td>1701.705994</td>\n",
              "    </tr>\n",
              "    <tr>\n",
              "      <th>2020-07-14</th>\n",
              "      <td>1693.679993</td>\n",
              "    </tr>\n",
              "    <tr>\n",
              "      <th>2020-07-15</th>\n",
              "      <td>1659.036057</td>\n",
              "    </tr>\n",
              "  </tbody>\n",
              "</table>\n",
              "</div>"
            ],
            "text/plain": [
              "                  Close\n",
              "Date                   \n",
              "2020-07-01  1551.312973\n",
              "2020-07-02  1566.016022\n",
              "2020-07-06  1665.678024\n",
              "2020-07-07  1639.046051\n",
              "2020-07-08  1677.143051\n",
              "2020-07-09  1730.742935\n",
              "2020-07-10  1754.464996\n",
              "2020-07-13  1701.705994\n",
              "2020-07-14  1693.679993\n",
              "2020-07-15  1659.036057"
            ]
          },
          "metadata": {
            "tags": []
          },
          "execution_count": 30
        }
      ]
    },
    {
      "cell_type": "code",
      "metadata": {
        "id": "38HU66yXZg5-"
      },
      "source": [
        "import numpy as np\n",
        "pivot_table_df = pd.pivot_table(data=df, values='Close', index='Symbol', aggfunc='mean', fill_value=np.mean(df['Close']))"
      ],
      "execution_count": 45,
      "outputs": []
    },
    {
      "cell_type": "code",
      "metadata": {
        "colab": {
          "base_uri": "https://localhost:8080/",
          "height": 142
        },
        "id": "l3p6dlX7ZNs2",
        "outputId": "b774c2dc-e003-491e-cf45-764869b93876"
      },
      "source": [
        "pivot_table_df"
      ],
      "execution_count": 46,
      "outputs": [
        {
          "output_type": "execute_result",
          "data": {
            "text/html": [
              "<div>\n",
              "<style scoped>\n",
              "    .dataframe tbody tr th:only-of-type {\n",
              "        vertical-align: middle;\n",
              "    }\n",
              "\n",
              "    .dataframe tbody tr th {\n",
              "        vertical-align: top;\n",
              "    }\n",
              "\n",
              "    .dataframe thead th {\n",
              "        text-align: right;\n",
              "    }\n",
              "</style>\n",
              "<table border=\"1\" class=\"dataframe\">\n",
              "  <thead>\n",
              "    <tr style=\"text-align: right;\">\n",
              "      <th></th>\n",
              "      <th>Close</th>\n",
              "    </tr>\n",
              "    <tr>\n",
              "      <th>Symbol</th>\n",
              "      <th></th>\n",
              "    </tr>\n",
              "  </thead>\n",
              "  <tbody>\n",
              "    <tr>\n",
              "      <th>AMZN</th>\n",
              "      <td>3175.888562</td>\n",
              "    </tr>\n",
              "    <tr>\n",
              "      <th>TSLA</th>\n",
              "      <td>484.223836</td>\n",
              "    </tr>\n",
              "  </tbody>\n",
              "</table>\n",
              "</div>"
            ],
            "text/plain": [
              "              Close\n",
              "Symbol             \n",
              "AMZN    3175.888562\n",
              "TSLA     484.223836"
            ]
          },
          "metadata": {
            "tags": []
          },
          "execution_count": 46
        }
      ]
    },
    {
      "cell_type": "code",
      "metadata": {
        "id": "HhBWM6sVZkDU"
      },
      "source": [
        "pivot_table_df = pd.pivot_table(data=df, values='Close', index='Symbol', aggfunc=['mean', 'std', 'max', 'min'])"
      ],
      "execution_count": 33,
      "outputs": []
    },
    {
      "cell_type": "code",
      "metadata": {
        "colab": {
          "base_uri": "https://localhost:8080/",
          "height": 173
        },
        "id": "0cw4O8XnZ475",
        "outputId": "ca43b3a1-7b1d-4fd1-f532-18f223199a23"
      },
      "source": [
        "pivot_table_df"
      ],
      "execution_count": 34,
      "outputs": [
        {
          "output_type": "execute_result",
          "data": {
            "text/html": [
              "<div>\n",
              "<style scoped>\n",
              "    .dataframe tbody tr th:only-of-type {\n",
              "        vertical-align: middle;\n",
              "    }\n",
              "\n",
              "    .dataframe tbody tr th {\n",
              "        vertical-align: top;\n",
              "    }\n",
              "\n",
              "    .dataframe thead tr th {\n",
              "        text-align: left;\n",
              "    }\n",
              "\n",
              "    .dataframe thead tr:last-of-type th {\n",
              "        text-align: right;\n",
              "    }\n",
              "</style>\n",
              "<table border=\"1\" class=\"dataframe\">\n",
              "  <thead>\n",
              "    <tr>\n",
              "      <th></th>\n",
              "      <th>mean</th>\n",
              "      <th>std</th>\n",
              "      <th>max</th>\n",
              "      <th>min</th>\n",
              "    </tr>\n",
              "    <tr>\n",
              "      <th></th>\n",
              "      <th>Close</th>\n",
              "      <th>Close</th>\n",
              "      <th>Close</th>\n",
              "      <th>Close</th>\n",
              "    </tr>\n",
              "    <tr>\n",
              "      <th>Symbol</th>\n",
              "      <th></th>\n",
              "      <th></th>\n",
              "      <th></th>\n",
              "      <th></th>\n",
              "    </tr>\n",
              "  </thead>\n",
              "  <tbody>\n",
              "    <tr>\n",
              "      <th>AMZN</th>\n",
              "      <td>3175.888562</td>\n",
              "      <td>116.057706</td>\n",
              "      <td>3531.449951</td>\n",
              "      <td>2878.699951</td>\n",
              "    </tr>\n",
              "    <tr>\n",
              "      <th>TSLA</th>\n",
              "      <td>484.223836</td>\n",
              "      <td>173.028402</td>\n",
              "      <td>883.090027</td>\n",
              "      <td>223.925995</td>\n",
              "    </tr>\n",
              "  </tbody>\n",
              "</table>\n",
              "</div>"
            ],
            "text/plain": [
              "               mean         std          max          min\n",
              "              Close       Close        Close        Close\n",
              "Symbol                                                   \n",
              "AMZN    3175.888562  116.057706  3531.449951  2878.699951\n",
              "TSLA     484.223836  173.028402   883.090027   223.925995"
            ]
          },
          "metadata": {
            "tags": []
          },
          "execution_count": 34
        }
      ]
    },
    {
      "cell_type": "code",
      "metadata": {
        "id": "A8AEm5VmZ6vr"
      },
      "source": [
        "# GROUP BY\n",
        "# 1. splitting wrt Symbol\n",
        "# 2. aggregate wrt mean\n",
        "# 3. combine the results"
      ],
      "execution_count": 36,
      "outputs": []
    },
    {
      "cell_type": "code",
      "metadata": {
        "id": "KYbuC1LSaeWz"
      },
      "source": [
        "group_df = df.groupby('Symbol')['Close'].mean().to_frame()"
      ],
      "execution_count": 39,
      "outputs": []
    },
    {
      "cell_type": "code",
      "metadata": {
        "colab": {
          "base_uri": "https://localhost:8080/",
          "height": 142
        },
        "id": "QNyC22ZPbErC",
        "outputId": "105e5652-afb4-41e3-e20a-f537502fa60d"
      },
      "source": [
        "group_df"
      ],
      "execution_count": 40,
      "outputs": [
        {
          "output_type": "execute_result",
          "data": {
            "text/html": [
              "<div>\n",
              "<style scoped>\n",
              "    .dataframe tbody tr th:only-of-type {\n",
              "        vertical-align: middle;\n",
              "    }\n",
              "\n",
              "    .dataframe tbody tr th {\n",
              "        vertical-align: top;\n",
              "    }\n",
              "\n",
              "    .dataframe thead th {\n",
              "        text-align: right;\n",
              "    }\n",
              "</style>\n",
              "<table border=\"1\" class=\"dataframe\">\n",
              "  <thead>\n",
              "    <tr style=\"text-align: right;\">\n",
              "      <th></th>\n",
              "      <th>Close</th>\n",
              "    </tr>\n",
              "    <tr>\n",
              "      <th>Symbol</th>\n",
              "      <th></th>\n",
              "    </tr>\n",
              "  </thead>\n",
              "  <tbody>\n",
              "    <tr>\n",
              "      <th>AMZN</th>\n",
              "      <td>3175.888562</td>\n",
              "    </tr>\n",
              "    <tr>\n",
              "      <th>TSLA</th>\n",
              "      <td>484.223836</td>\n",
              "    </tr>\n",
              "  </tbody>\n",
              "</table>\n",
              "</div>"
            ],
            "text/plain": [
              "              Close\n",
              "Symbol             \n",
              "AMZN    3175.888562\n",
              "TSLA     484.223836"
            ]
          },
          "metadata": {
            "tags": []
          },
          "execution_count": 40
        }
      ]
    },
    {
      "cell_type": "code",
      "metadata": {
        "id": "qr72Aq4pbFrQ"
      },
      "source": [
        "df_new_00 = df.groupby('Symbol').agg(\n",
        "    {\n",
        "        'Close': ['mean', 'median'],\n",
        "        'Volume': ['max']\n",
        "     }\n",
        ")"
      ],
      "execution_count": 41,
      "outputs": []
    },
    {
      "cell_type": "code",
      "metadata": {
        "colab": {
          "base_uri": "https://localhost:8080/",
          "height": 173
        },
        "id": "oSzgudAIb2NH",
        "outputId": "9e6156fb-af5e-4091-b720-32afa02903b7"
      },
      "source": [
        "df_new_00"
      ],
      "execution_count": 42,
      "outputs": [
        {
          "output_type": "execute_result",
          "data": {
            "text/html": [
              "<div>\n",
              "<style scoped>\n",
              "    .dataframe tbody tr th:only-of-type {\n",
              "        vertical-align: middle;\n",
              "    }\n",
              "\n",
              "    .dataframe tbody tr th {\n",
              "        vertical-align: top;\n",
              "    }\n",
              "\n",
              "    .dataframe thead tr th {\n",
              "        text-align: left;\n",
              "    }\n",
              "\n",
              "    .dataframe thead tr:last-of-type th {\n",
              "        text-align: right;\n",
              "    }\n",
              "</style>\n",
              "<table border=\"1\" class=\"dataframe\">\n",
              "  <thead>\n",
              "    <tr>\n",
              "      <th></th>\n",
              "      <th colspan=\"2\" halign=\"left\">Close</th>\n",
              "      <th>Volume</th>\n",
              "    </tr>\n",
              "    <tr>\n",
              "      <th></th>\n",
              "      <th>mean</th>\n",
              "      <th>median</th>\n",
              "      <th>max</th>\n",
              "    </tr>\n",
              "    <tr>\n",
              "      <th>Symbol</th>\n",
              "      <th></th>\n",
              "      <th></th>\n",
              "      <th></th>\n",
              "    </tr>\n",
              "  </thead>\n",
              "  <tbody>\n",
              "    <tr>\n",
              "      <th>AMZN</th>\n",
              "      <td>3175.888562</td>\n",
              "      <td>3167.459961</td>\n",
              "      <td>8892600.0</td>\n",
              "    </tr>\n",
              "    <tr>\n",
              "      <th>TSLA</th>\n",
              "      <td>484.223836</td>\n",
              "      <td>425.679993</td>\n",
              "      <td>222126200.0</td>\n",
              "    </tr>\n",
              "  </tbody>\n",
              "</table>\n",
              "</div>"
            ],
            "text/plain": [
              "              Close                    Volume\n",
              "               mean       median          max\n",
              "Symbol                                       \n",
              "AMZN    3175.888562  3167.459961    8892600.0\n",
              "TSLA     484.223836   425.679993  222126200.0"
            ]
          },
          "metadata": {
            "tags": []
          },
          "execution_count": 42
        }
      ]
    },
    {
      "cell_type": "code",
      "metadata": {
        "colab": {
          "base_uri": "https://localhost:8080/",
          "height": 142
        },
        "id": "09WcKnopb2n7",
        "outputId": "cc180d0a-97b9-4a10-80d5-53cb548977f0"
      },
      "source": [
        "df.groupby('Symbol')['Close'].agg(['mean', 'median'])"
      ],
      "execution_count": 43,
      "outputs": [
        {
          "output_type": "execute_result",
          "data": {
            "text/html": [
              "<div>\n",
              "<style scoped>\n",
              "    .dataframe tbody tr th:only-of-type {\n",
              "        vertical-align: middle;\n",
              "    }\n",
              "\n",
              "    .dataframe tbody tr th {\n",
              "        vertical-align: top;\n",
              "    }\n",
              "\n",
              "    .dataframe thead th {\n",
              "        text-align: right;\n",
              "    }\n",
              "</style>\n",
              "<table border=\"1\" class=\"dataframe\">\n",
              "  <thead>\n",
              "    <tr style=\"text-align: right;\">\n",
              "      <th></th>\n",
              "      <th>mean</th>\n",
              "      <th>median</th>\n",
              "    </tr>\n",
              "    <tr>\n",
              "      <th>Symbol</th>\n",
              "      <th></th>\n",
              "      <th></th>\n",
              "    </tr>\n",
              "  </thead>\n",
              "  <tbody>\n",
              "    <tr>\n",
              "      <th>AMZN</th>\n",
              "      <td>3175.888562</td>\n",
              "      <td>3167.459961</td>\n",
              "    </tr>\n",
              "    <tr>\n",
              "      <th>TSLA</th>\n",
              "      <td>484.223836</td>\n",
              "      <td>425.679993</td>\n",
              "    </tr>\n",
              "  </tbody>\n",
              "</table>\n",
              "</div>"
            ],
            "text/plain": [
              "               mean       median\n",
              "Symbol                          \n",
              "AMZN    3175.888562  3167.459961\n",
              "TSLA     484.223836   425.679993"
            ]
          },
          "metadata": {
            "tags": []
          },
          "execution_count": 43
        }
      ]
    },
    {
      "cell_type": "code",
      "metadata": {
        "id": "FlCm6x1lcLIs"
      },
      "source": [
        ""
      ],
      "execution_count": null,
      "outputs": []
    }
  ]
}